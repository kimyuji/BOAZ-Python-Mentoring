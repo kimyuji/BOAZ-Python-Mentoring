{
 "cells": [
  {
   "cell_type": "markdown",
   "metadata": {},
   "source": [
    "# 멘토멘티스터디 B조 파이썬 기초"
   ]
  },
  {
   "cell_type": "markdown",
   "metadata": {},
   "source": [
    "Python 내장 예약어가 있음. 변수의 이름으로 예약어를 사용할 수 없다. 예약어를 입력하면 초록색으로 바뀌니까 조심하면 된다. [예약어 종류](https://wikidocs.net/1038)"
   ]
  },
  {
   "cell_type": "markdown",
   "metadata": {},
   "source": [
    "## print ()\n",
    "print()는 모니터에 텍스트를 출력해주는 함수"
   ]
  },
  {
   "cell_type": "code",
   "execution_count": 2,
   "metadata": {},
   "outputs": [
    {
     "name": "stdout",
     "output_type": "stream",
     "text": [
      "Hello World!\n"
     ]
    }
   ],
   "source": [
    "print(\"Hello World!\")"
   ]
  },
  {
   "cell_type": "code",
   "execution_count": 1,
   "metadata": {},
   "outputs": [
    {
     "name": "stdout",
     "output_type": "stream",
     "text": [
      "I am KYJ and 22 years old\n"
     ]
    }
   ],
   "source": [
    "# % 연산자를 이용한 출력\n",
    "print(\"I am %s and %d years old\" % (\"KYJ\", 22 ))"
   ]
  },
  {
   "cell_type": "markdown",
   "metadata": {},
   "source": [
    "| Syntax\t    | Data Type | Example |\n",
    "|---------------|-------------|-------|\n",
    "| `%s`      | string |\n",
    "| `%d`      | integer |\n",
    "| `%04d`    | 네자리수로 0을 채워서 맞춤 | `%04d % (55)` : 0055 |\n",
    "| `%f`      | float |\n",
    "| `%.3f`    | 소수점 아래 셋째자리 까지 표기 | `%.3f % (0.55555)` : 0.555 |\n",
    "| `%g`      | 소수점 단축 표기 |"
   ]
  },
  {
   "cell_type": "code",
   "execution_count": 2,
   "metadata": {},
   "outputs": [
    {
     "name": "stdout",
     "output_type": "stream",
     "text": [
      "I am KYJ and 22 years old\n"
     ]
    }
   ],
   "source": [
    "# format 메소드를 이용한 출력\n",
    "print(\"I am {} and {} years old\".format(\"KYJ\", 22))"
   ]
  },
  {
   "cell_type": "code",
   "execution_count": 7,
   "metadata": {},
   "outputs": [
    {
     "data": {
      "text/plain": [
       "10"
      ]
     },
     "execution_count": 7,
     "metadata": {},
     "output_type": "execute_result"
    }
   ],
   "source": [
    "# \\로 여러 줄 가능\n",
    "num= 1+2 \\\n",
    "+3+4\n",
    "num"
   ]
  },
  {
   "cell_type": "markdown",
   "metadata": {},
   "source": [
    "\n",
    "## 연산자(operators)"
   ]
  },
  {
   "cell_type": "markdown",
   "metadata": {},
   "source": [
    "### 산술연산자"
   ]
  },
  {
   "cell_type": "code",
   "execution_count": 9,
   "metadata": {},
   "outputs": [
    {
     "data": {
      "text/plain": [
       "9"
      ]
     },
     "execution_count": 9,
     "metadata": {},
     "output_type": "execute_result"
    }
   ],
   "source": [
    "4+5 #덧셈"
   ]
  },
  {
   "cell_type": "code",
   "execution_count": 10,
   "metadata": {},
   "outputs": [
    {
     "data": {
      "text/plain": [
       "-1"
      ]
     },
     "execution_count": 10,
     "metadata": {},
     "output_type": "execute_result"
    }
   ],
   "source": [
    "4-5 #뺄셈"
   ]
  },
  {
   "cell_type": "code",
   "execution_count": 11,
   "metadata": {},
   "outputs": [
    {
     "data": {
      "text/plain": [
       "20"
      ]
     },
     "execution_count": 11,
     "metadata": {},
     "output_type": "execute_result"
    }
   ],
   "source": [
    "4*5 #곱셈"
   ]
  },
  {
   "cell_type": "code",
   "execution_count": 12,
   "metadata": {},
   "outputs": [
    {
     "data": {
      "text/plain": [
       "0.8"
      ]
     },
     "execution_count": 12,
     "metadata": {},
     "output_type": "execute_result"
    }
   ],
   "source": [
    "4/5 #나눗셈"
   ]
  },
  {
   "cell_type": "code",
   "execution_count": 13,
   "metadata": {},
   "outputs": [
    {
     "data": {
      "text/plain": [
       "0"
      ]
     },
     "execution_count": 13,
     "metadata": {},
     "output_type": "execute_result"
    }
   ],
   "source": [
    "4//5 #몫 구하기"
   ]
  },
  {
   "cell_type": "code",
   "execution_count": 60,
   "metadata": {},
   "outputs": [
    {
     "data": {
      "text/plain": [
       "4"
      ]
     },
     "execution_count": 60,
     "metadata": {},
     "output_type": "execute_result"
    }
   ],
   "source": [
    "4%5 #나머지 구하기"
   ]
  },
  {
   "cell_type": "code",
   "execution_count": 14,
   "metadata": {},
   "outputs": [
    {
     "data": {
      "text/plain": [
       "1024"
      ]
     },
     "execution_count": 14,
     "metadata": {},
     "output_type": "execute_result"
    }
   ],
   "source": [
    "4**5 #거듭제곱"
   ]
  },
  {
   "cell_type": "markdown",
   "metadata": {},
   "source": [
    "거듭제곱(power)은 `^`가 아니라 `**`임. `^`는 비트 연산자인데 이는 [링크](https://wikidocs.net/1161) 참고. \n",
    "\n",
    "^: XOR 둘 중 하나만 참일 때 만족 "
   ]
  },
  {
   "cell_type": "code",
   "execution_count": 15,
   "metadata": {},
   "outputs": [
    {
     "name": "stdout",
     "output_type": "stream",
     "text": [
      "더하기 : 2+3 = 5\n",
      "빼기 : 2-3 = -1\n",
      "곱하기 : 2*3 = 6\n",
      "나누기 : 2/3 = 0.6666666666666666\n",
      "몫 : 2//3 = 0\n",
      "나머지 : 2%3 = 2\n",
      "거듭제곱 : 2**3 = 8\n"
     ]
    }
   ],
   "source": [
    "print(\"더하기 : 2+3 = {}\".format(2+3))\n",
    "print(\"빼기 : 2-3 = {}\".format(2-3))\n",
    "print(\"곱하기 : 2*3 = {}\".format(2*3))\n",
    "print(\"나누기 : 2/3 = {}\".format(2/3))\n",
    "print(\"몫 : 2//3 = {}\".format(2//3))\n",
    "print(\"나머지 : 2%3 = {}\".format(2%3))\n",
    "print(\"거듭제곱 : 2**3 = {}\".format(2**3))"
   ]
  },
  {
   "cell_type": "markdown",
   "metadata": {},
   "source": [
    "### 할당연산자\n",
    "#### 산술 연산자 이용"
   ]
  },
  {
   "cell_type": "code",
   "execution_count": 16,
   "metadata": {},
   "outputs": [
    {
     "name": "stdout",
     "output_type": "stream",
     "text": [
      "6\n"
     ]
    }
   ],
   "source": [
    "a=2 ; a*=3 # 세미콜론(;)으로 줄 바꾸지 않고 여러개의 코드 실행 가능\n",
    "print(a)"
   ]
  },
  {
   "cell_type": "markdown",
   "metadata": {},
   "source": [
    "### 비교연산자\n",
    "반환값이 True or False(boolean type). 주의할 점은 `=`가 아니라 `==` 사용해야함. `=`는 할당 연산자임."
   ]
  },
  {
   "cell_type": "code",
   "execution_count": 18,
   "metadata": {
    "scrolled": true
   },
   "outputs": [
    {
     "name": "stdout",
     "output_type": "stream",
     "text": [
      "3\n"
     ]
    }
   ],
   "source": [
    "a=2 ; b=3\n",
    "a=b\n",
    "print(a)"
   ]
  },
  {
   "cell_type": "code",
   "execution_count": 19,
   "metadata": {},
   "outputs": [
    {
     "name": "stdout",
     "output_type": "stream",
     "text": [
      "False\n",
      "True\n"
     ]
    }
   ],
   "source": [
    "a=2 ; b=3\n",
    "print(a==b)\n",
    "print(a<=b)"
   ]
  },
  {
   "cell_type": "markdown",
   "metadata": {},
   "source": [
    "### 논리 연산자\n",
    "and, or, not"
   ]
  },
  {
   "cell_type": "code",
   "execution_count": 20,
   "metadata": {},
   "outputs": [
    {
     "data": {
      "text/plain": [
       "True"
      ]
     },
     "execution_count": 20,
     "metadata": {},
     "output_type": "execute_result"
    }
   ],
   "source": [
    "(a==b) or (a<=b)"
   ]
  },
  {
   "cell_type": "code",
   "execution_count": 21,
   "metadata": {},
   "outputs": [
    {
     "data": {
      "text/plain": [
       "False"
      ]
     },
     "execution_count": 21,
     "metadata": {},
     "output_type": "execute_result"
    }
   ],
   "source": [
    "(a==b) and (a<=b)"
   ]
  },
  {
   "cell_type": "markdown",
   "metadata": {},
   "source": [
    "## 자료형(data type)\n",
    "문자형, 숫자형, 리스트 자료형, 튜플 자료형, 딕셔너리 자료형, 집합 자료형, 불 자료형\n",
    "\n",
    "`type(변수이름)`으로 확인 가능. 같은 자료형끼리는 `+` 가능\n",
    "\n",
    "사실 굉장히 많은 자료형이 있지만, 대표적인 파이썬 기본 자료형만 다루겠습니다.\n",
    "\n",
    "Boolean자료형은 pandas에 대한 내용을 다룰 때 다시 짚어보겠습니다.\n",
    "\n",
    "cf) 자세한 내용 [자료형] (https://wikidocs.net/11)"
   ]
  },
  {
   "cell_type": "code",
   "execution_count": 3,
   "metadata": {},
   "outputs": [],
   "source": [
    "string = \"Hello, World!\" #str\n",
    "integer = 8 #int\n",
    "real = 3.14 #float\n",
    "\n",
    "li = [1,2,3,4,5] #list\n",
    "tup = (1,2,3,4,5) #tuple\n",
    "Set = {1,2,3,4,5} #set\n",
    "\n",
    "dictionary={\"a\":\"this is\", \"b\":\"a dictionary\"} #dict\n",
    "\n",
    "boolean = True #bool. True=1, False=0"
   ]
  },
  {
   "cell_type": "code",
   "execution_count": 24,
   "metadata": {},
   "outputs": [
    {
     "data": {
      "text/plain": [
       "tuple"
      ]
     },
     "execution_count": 24,
     "metadata": {},
     "output_type": "execute_result"
    }
   ],
   "source": [
    "type(tup)"
   ]
  },
  {
   "cell_type": "markdown",
   "metadata": {},
   "source": [
    "### string"
   ]
  },
  {
   "cell_type": "code",
   "execution_count": 4,
   "metadata": {},
   "outputs": [
    {
     "data": {
      "text/plain": [
       "'Hello, World!Hello, World!Hello, World!'"
      ]
     },
     "execution_count": 4,
     "metadata": {},
     "output_type": "execute_result"
    }
   ],
   "source": [
    "string * 3"
   ]
  },
  {
   "cell_type": "code",
   "execution_count": 5,
   "metadata": {},
   "outputs": [
    {
     "data": {
      "text/plain": [
       "'Hello, World!??????'"
      ]
     },
     "execution_count": 5,
     "metadata": {},
     "output_type": "execute_result"
    }
   ],
   "source": [
    "string + \"??????\" #띄어쓰기 없이 합쳐진다."
   ]
  },
  {
   "cell_type": "code",
   "execution_count": 28,
   "metadata": {},
   "outputs": [
    {
     "data": {
      "text/plain": [
       "'줄을 바꿔도\\n하나의 string으로 인식하며\\n내부의 어떠한 \"특수문자\"라도\\n포함시킬수 있다.'"
      ]
     },
     "execution_count": 28,
     "metadata": {},
     "output_type": "execute_result"
    }
   ],
   "source": [
    "\"\"\"줄을 바꿔도\n",
    "하나의 string으로 인식하며\n",
    "내부의 어떠한 \"특수문자\"라도\n",
    "포함시킬수 있다.\"\"\""
   ]
  },
  {
   "cell_type": "code",
   "execution_count": 29,
   "metadata": {},
   "outputs": [
    {
     "ename": "SyntaxError",
     "evalue": "invalid syntax (<ipython-input-29-ea2ce8a49ccd>, line 1)",
     "output_type": "error",
     "traceback": [
      "\u001b[1;36m  File \u001b[1;32m\"<ipython-input-29-ea2ce8a49ccd>\"\u001b[1;36m, line \u001b[1;32m1\u001b[0m\n\u001b[1;33m    '이건 '특수문자'를 포함시킬수 없다' #오류\u001b[0m\n\u001b[1;37m            ^\u001b[0m\n\u001b[1;31mSyntaxError\u001b[0m\u001b[1;31m:\u001b[0m invalid syntax\n"
     ]
    }
   ],
   "source": [
    "'이건 '특수문자'를 포함시킬수 없다' #오류"
   ]
  },
  {
   "cell_type": "markdown",
   "metadata": {},
   "source": [
    "`\\n`처럼 미리 정의된 문자조합을 `이스케이프 코드`라고 한다. 보통 출력물을 정리할 때 사용.\n",
    "\n",
    "| 코드 | 설명 |\n",
    "| ---- | ----- |\n",
    "| \\n | 줄 바꿈 |\n",
    "| \\t | 탭(tab) |\n",
    "| \\b | 백스페이스 |\n",
    "| \\\\' | ' |\n",
    "| \\\\\" | \" |\n",
    "| \\\\\\ | \\ |"
   ]
  },
  {
   "cell_type": "code",
   "execution_count": 7,
   "metadata": {},
   "outputs": [
    {
     "data": {
      "text/plain": [
       "'이렇게 하면 \"출력\" 되지롱'"
      ]
     },
     "execution_count": 7,
     "metadata": {},
     "output_type": "execute_result"
    }
   ],
   "source": [
    "\"이렇게 하면 \\\"출력\\\" 되지롱\""
   ]
  },
  {
   "cell_type": "markdown",
   "metadata": {},
   "source": [
    "### list와 tuple"
   ]
  },
  {
   "cell_type": "markdown",
   "metadata": {},
   "source": [
    "#### list의 형태\n",
    "a = [] \\\n",
    "b = [1, 2, 3] \\\n",
    "c = ['Life', 'is', 'too', 'short'] \\\n",
    "d = [1, 2, 'Life', 'is'] \\\n",
    "e = [1, 2, ['Life', 'is']]"
   ]
  },
  {
   "cell_type": "markdown",
   "metadata": {},
   "source": [
    "#### 튜플(tuple)\n",
    "튜플(tuple)은 몇 가지 점을 제외하곤 리스트와 거의 비슷하며 리스트와 다른 점은 다음과 같다.\n",
    "\n",
    "리스트는 [ ]으로 둘러싸지만 튜플은 ( )으로 둘러싼다.\n",
    "리스트는 그 값의 생성, 삭제, 수정이 가능하지만 튜플은 그 값을 바꿀 수 없다.\n",
    "\n",
    "#### 튜플의 형태\n",
    "t1 = ()  \\\n",
    "t2 = (1,) \\\n",
    "t3 = (1, 2, 3) \\\n",
    "t4 = 1, 2, 3 \\\n",
    "t5 = ('a', 'b', ('ab', 'cd')) \\"
   ]
  },
  {
   "cell_type": "code",
   "execution_count": 33,
   "metadata": {},
   "outputs": [
    {
     "name": "stdout",
     "output_type": "stream",
     "text": [
      "[1, 2, 3, 4, 5, 1, 2, 3, 4, 5]\n",
      "[1, 2, 3, 4, 5, 1, 2, 3, 4, 5, 1, 2, 3, 4, 5]\n"
     ]
    }
   ],
   "source": [
    "print(li+li)\n",
    "print(li *3)"
   ]
  },
  {
   "cell_type": "code",
   "execution_count": 34,
   "metadata": {},
   "outputs": [
    {
     "name": "stdout",
     "output_type": "stream",
     "text": [
      "5\n",
      "1\n"
     ]
    },
    {
     "ename": "IndexError",
     "evalue": "list index out of range",
     "output_type": "error",
     "traceback": [
      "\u001b[1;31m---------------------------------------------------------------------------\u001b[0m",
      "\u001b[1;31mIndexError\u001b[0m                                Traceback (most recent call last)",
      "\u001b[1;32m<ipython-input-34-f5a9366ff831>\u001b[0m in \u001b[0;36m<module>\u001b[1;34m\u001b[0m\n\u001b[0;32m      1\u001b[0m \u001b[0mprint\u001b[0m\u001b[1;33m(\u001b[0m\u001b[0mlen\u001b[0m\u001b[1;33m(\u001b[0m\u001b[0mli\u001b[0m\u001b[1;33m)\u001b[0m\u001b[1;33m)\u001b[0m \u001b[1;31m#list 길이\u001b[0m\u001b[1;33m\u001b[0m\u001b[1;33m\u001b[0m\u001b[0m\n\u001b[0;32m      2\u001b[0m \u001b[0mprint\u001b[0m\u001b[1;33m(\u001b[0m\u001b[0mli\u001b[0m\u001b[1;33m[\u001b[0m\u001b[1;36m0\u001b[0m\u001b[1;33m]\u001b[0m\u001b[1;33m)\u001b[0m \u001b[1;31m#0부터 시작\u001b[0m\u001b[1;33m\u001b[0m\u001b[1;33m\u001b[0m\u001b[0m\n\u001b[1;32m----> 3\u001b[1;33m \u001b[0mprint\u001b[0m\u001b[1;33m(\u001b[0m\u001b[0mli\u001b[0m\u001b[1;33m[\u001b[0m\u001b[1;36m5\u001b[0m\u001b[1;33m]\u001b[0m\u001b[1;33m)\u001b[0m\u001b[1;33m\u001b[0m\u001b[1;33m\u001b[0m\u001b[0m\n\u001b[0m",
      "\u001b[1;31mIndexError\u001b[0m: list index out of range"
     ]
    }
   ],
   "source": [
    "print(len(li)) #list 길이\n",
    "print(li[0]) #0부터 시작\n",
    "print(li[5]) #범위 밖이므로 오류"
   ]
  },
  {
   "cell_type": "code",
   "execution_count": 35,
   "metadata": {},
   "outputs": [
    {
     "name": "stdout",
     "output_type": "stream",
     "text": [
      "[3, 4]\n",
      "[2, 3, 4, 5]\n",
      "[4]\n",
      "[1, 2, 3]\n",
      "[1, 3, 5]\n"
     ]
    }
   ],
   "source": [
    "print(li[2:4])\n",
    "print(li[1:])\n",
    "print(li[3:-1])\n",
    "print(li[:-2])\n",
    "print(li[::2]) #list[시작:끝:간격]"
   ]
  },
  {
   "cell_type": "code",
   "execution_count": 8,
   "metadata": {},
   "outputs": [
    {
     "data": {
      "text/plain": [
       "54"
      ]
     },
     "execution_count": 8,
     "metadata": {},
     "output_type": "execute_result"
    }
   ],
   "source": [
    "data = [[1, 15, 20, 36], [41, 20, 54, 47], [75, 46, 68, 2]]\n",
    "data[1][2]"
   ]
  },
  {
   "cell_type": "code",
   "execution_count": 41,
   "metadata": {},
   "outputs": [
    {
     "data": {
      "text/plain": [
       "[1, 2, 9, 4, 5]"
      ]
     },
     "execution_count": 41,
     "metadata": {},
     "output_type": "execute_result"
    }
   ],
   "source": [
    "li[2]=9 #3을 9로 재설정\n",
    "li"
   ]
  },
  {
   "cell_type": "code",
   "execution_count": 39,
   "metadata": {},
   "outputs": [
    {
     "ename": "TypeError",
     "evalue": "'tuple' object does not support item assignment",
     "output_type": "error",
     "traceback": [
      "\u001b[1;31m---------------------------------------------------------------------------\u001b[0m",
      "\u001b[1;31mTypeError\u001b[0m                                 Traceback (most recent call last)",
      "\u001b[1;32m<ipython-input-39-11c3340a528e>\u001b[0m in \u001b[0;36m<module>\u001b[1;34m\u001b[0m\n\u001b[1;32m----> 1\u001b[1;33m \u001b[0mtup\u001b[0m\u001b[1;33m[\u001b[0m\u001b[1;36m2\u001b[0m\u001b[1;33m]\u001b[0m\u001b[1;33m=\u001b[0m\u001b[1;36m9\u001b[0m \u001b[1;31m#오류\u001b[0m\u001b[1;33m\u001b[0m\u001b[1;33m\u001b[0m\u001b[0m\n\u001b[0m",
      "\u001b[1;31mTypeError\u001b[0m: 'tuple' object does not support item assignment"
     ]
    }
   ],
   "source": [
    "tup[2]=9 #오류"
   ]
  },
  {
   "cell_type": "code",
   "execution_count": 40,
   "metadata": {
    "scrolled": true
   },
   "outputs": [
    {
     "name": "stdout",
     "output_type": "stream",
     "text": [
      "[1, 2, 9, 4, 5, 6]\n",
      "[1, 2, 9, 4, 5]\n"
     ]
    }
   ],
   "source": [
    "li.append(6); print(li) #6 붙이기\n",
    "li.remove(6); print(li) #6 제거하기"
   ]
  },
  {
   "cell_type": "code",
   "execution_count": 9,
   "metadata": {
    "scrolled": false
   },
   "outputs": [
    {
     "name": "stdout",
     "output_type": "stream",
     "text": [
      "[1, 2, 3, 4, 5]\n",
      "<list_reverseiterator object at 0x00000244667CE550>\n",
      "[5, 4, 3, 2, 1]\n",
      "[1, 2, 3, 4, 5]\n"
     ]
    }
   ],
   "source": [
    "print(sorted(li)) #실제 list는 건드리지 않고 정렬한 결과만 알려줌\n",
    "print(reversed(li)) #역순으로 정렬한 결과 -> 주소를 알려주기 때문에 아래처럼 다시 list로 선언해줘야 한다\n",
    "print(list(reversed(li)))\n",
    "li.sort(); print(li) #실제 list를 정렬함"
   ]
  },
  {
   "cell_type": "code",
   "execution_count": 10,
   "metadata": {},
   "outputs": [
    {
     "data": {
      "text/plain": [
       "[5, 4, 3, 2, 1]"
      ]
     },
     "execution_count": 10,
     "metadata": {},
     "output_type": "execute_result"
    }
   ],
   "source": [
    "li.reverse()\n",
    "li"
   ]
  },
  {
   "cell_type": "code",
   "execution_count": 11,
   "metadata": {},
   "outputs": [
    {
     "name": "stdout",
     "output_type": "stream",
     "text": [
      "<class 'list'> ['This', 'will', 'be', 'splitted']\n",
      "<class 'str'> This*will*be*splitted\n"
     ]
    }
   ],
   "source": [
    "sentence = \"This will be splitted\"\n",
    "words = sentence.split(\" \"); print(type(words), words)\n",
    "sentence2 = \"*\".join(words); print(type(sentence2), sentence2)"
   ]
  },
  {
   "cell_type": "markdown",
   "metadata": {},
   "source": [
    "### dictionary\n",
    "dictionary 자료형은 pandas dataframe를 생성할 때 쓰이는 자료형입니다.\n",
    "\n",
    "순서 중요! {`key1` : `value1`, `key2` : `value2` ... }"
   ]
  },
  {
   "cell_type": "code",
   "execution_count": 12,
   "metadata": {
    "scrolled": true
   },
   "outputs": [
    {
     "name": "stdout",
     "output_type": "stream",
     "text": [
      "dict_items([('a', 'this is'), ('b', 'a dictionary')])\n",
      "dict_keys(['a', 'b'])\n",
      "dict_values(['this is', 'a dictionary'])\n",
      "-------------------------------\n",
      "this is a dictionary\n"
     ]
    }
   ],
   "source": [
    "print(dictionary.items())\n",
    "print(dictionary.keys())\n",
    "print(dictionary.values())\n",
    "print('-------------------------------')\n",
    "print(dictionary['a'], dictionary['b'])"
   ]
  },
  {
   "cell_type": "code",
   "execution_count": 46,
   "metadata": {},
   "outputs": [
    {
     "data": {
      "text/plain": [
       "{'a': 'this is', 'b': 'a dictionary', 'c': 'new element'}"
      ]
     },
     "execution_count": 46,
     "metadata": {},
     "output_type": "execute_result"
    }
   ],
   "source": [
    "dictionary['c']='new element'; dictionary  # c 추가"
   ]
  },
  {
   "cell_type": "code",
   "execution_count": 47,
   "metadata": {
    "scrolled": true
   },
   "outputs": [
    {
     "name": "stdout",
     "output_type": "stream",
     "text": [
      "a\n",
      "this is\n",
      "b\n",
      "a dictionary\n",
      "c\n",
      "new element\n"
     ]
    }
   ],
   "source": [
    "for x, y in dictionary.items():\n",
    "    print(x)\n",
    "    print(y)"
   ]
  },
  {
   "cell_type": "markdown",
   "metadata": {},
   "source": [
    "참고로 `dict`와 `set`은 순서가 없는(orderless) 자료형이기 때문에 리스트나 튜플과 다르게 정렬이 되지 않습니다. Index를 통한 호출도 당연히 안됩니다.\n",
    "`dict`자료형을 정렬하려면 다음의 코드를 사용해주어야 합니다. 그러면 `set`자료형은 어떻게 해야할까요?"
   ]
  },
  {
   "cell_type": "code",
   "execution_count": 48,
   "metadata": {},
   "outputs": [
    {
     "data": {
      "text/plain": [
       "{0: 0, 1: 2, 2: 1, 3: 4, 4: 3}"
      ]
     },
     "execution_count": 48,
     "metadata": {},
     "output_type": "execute_result"
    }
   ],
   "source": [
    "#by keys\n",
    "x = {1: 2, 3: 4, 4: 3, 2: 1, 0: 0}\n",
    "{k: v for k, v in sorted(x.items(), key=lambda item: item[0])}"
   ]
  },
  {
   "cell_type": "code",
   "execution_count": 49,
   "metadata": {},
   "outputs": [
    {
     "data": {
      "text/plain": [
       "{0: 0, 2: 1, 1: 2, 4: 3, 3: 4}"
      ]
     },
     "execution_count": 49,
     "metadata": {},
     "output_type": "execute_result"
    }
   ],
   "source": [
    "#by values\n",
    "x = {1: 2, 3: 4, 4: 3, 2: 1, 0: 0}\n",
    "{k: v for k, v in sorted(x.items(), key=lambda item: item[1])}"
   ]
  },
  {
   "cell_type": "code",
   "execution_count": 50,
   "metadata": {},
   "outputs": [
    {
     "data": {
      "text/plain": [
       "[0, 1, 2, 3, 4, 5, 6, 7, 8, 9]"
      ]
     },
     "execution_count": 50,
     "metadata": {},
     "output_type": "execute_result"
    }
   ],
   "source": [
    "[n for n in range(10)]"
   ]
  },
  {
   "cell_type": "markdown",
   "metadata": {},
   "source": [
    "## 반복문"
   ]
  },
  {
   "cell_type": "markdown",
   "metadata": {},
   "source": [
    "### for, range, enumerate\n",
    "`for iter in iterable:\n",
    "    ...반복할 구문...`"
   ]
  },
  {
   "cell_type": "code",
   "execution_count": 52,
   "metadata": {},
   "outputs": [
    {
     "name": "stdout",
     "output_type": "stream",
     "text": [
      "0\t1\t2\t3\t4\t"
     ]
    }
   ],
   "source": [
    "for i in range(5):\n",
    "    print(i, end=\"\\t\") #print문 안에 end='구분자' 넣어주면 원하는대로 출력할 수 있다.\n",
    "    \n",
    "    "
   ]
  },
  {
   "cell_type": "code",
   "execution_count": 13,
   "metadata": {},
   "outputs": [
    {
     "ename": "TypeError",
     "evalue": "cannot unpack non-iterable int object",
     "output_type": "error",
     "traceback": [
      "\u001b[1;31m---------------------------------------------------------------------------\u001b[0m",
      "\u001b[1;31mTypeError\u001b[0m                                 Traceback (most recent call last)",
      "\u001b[1;32m<ipython-input-13-8a016d9cd3f7>\u001b[0m in \u001b[0;36m<module>\u001b[1;34m\u001b[0m\n\u001b[0;32m      1\u001b[0m \u001b[1;31m#enumerate : 몇번째 반복문인지 알고싶을때 주로 사용. 유용하니까 많이 써보세요.\u001b[0m\u001b[1;33m\u001b[0m\u001b[1;33m\u001b[0m\u001b[1;33m\u001b[0m\u001b[0m\n\u001b[1;32m----> 2\u001b[1;33m \u001b[1;32mfor\u001b[0m \u001b[0mt\u001b[0m\u001b[1;33m,\u001b[0m \u001b[0mi\u001b[0m \u001b[1;32min\u001b[0m \u001b[1;33m[\u001b[0m\u001b[1;36m12\u001b[0m\u001b[1;33m,\u001b[0m\u001b[1;36m22\u001b[0m\u001b[1;33m,\u001b[0m\u001b[1;36m35\u001b[0m\u001b[1;33m,\u001b[0m\u001b[1;36m6\u001b[0m\u001b[1;33m,\u001b[0m\u001b[1;36m85\u001b[0m\u001b[1;33m]\u001b[0m\u001b[1;33m:\u001b[0m\u001b[1;33m\u001b[0m\u001b[1;33m\u001b[0m\u001b[0m\n\u001b[0m\u001b[0;32m      3\u001b[0m     \u001b[0mprint\u001b[0m\u001b[1;33m(\u001b[0m\u001b[1;34m\"Trial {} : {}\"\u001b[0m\u001b[1;33m.\u001b[0m\u001b[0mformat\u001b[0m\u001b[1;33m(\u001b[0m\u001b[0mt\u001b[0m\u001b[1;33m,\u001b[0m \u001b[0mi\u001b[0m\u001b[1;33m)\u001b[0m\u001b[1;33m)\u001b[0m\u001b[1;33m\u001b[0m\u001b[1;33m\u001b[0m\u001b[0m\n",
      "\u001b[1;31mTypeError\u001b[0m: cannot unpack non-iterable int object"
     ]
    }
   ],
   "source": [
    "#enumerate : 몇번째 반복문인지 알고싶을때 주로 사용. 유용하니까 많이 써보세요.\n",
    "for t, i in [12,22,35,6,85]:\n",
    "    print(\"Trial {} : {}\".format(t, i))"
   ]
  },
  {
   "cell_type": "markdown",
   "metadata": {},
   "source": [
    "### 흐름 제어문\n",
    "반복문 혹은 루프문을 언제 멈춰야할지 모를때. 조건만 알고 있을때!\n",
    "\n",
    "`continue`, `break`, `pass`"
   ]
  },
  {
   "cell_type": "code",
   "execution_count": 55,
   "metadata": {},
   "outputs": [
    {
     "name": "stdout",
     "output_type": "stream",
     "text": [
      "0 2 4 6 8 "
     ]
    }
   ],
   "source": [
    "#강제로 다음 반복문으로 넘어가라\n",
    "for i in range(10):\n",
    "    if i%2==1:\n",
    "        continue\n",
    "    else:\n",
    "        print(i, end=' ')"
   ]
  },
  {
   "cell_type": "code",
   "execution_count": 56,
   "metadata": {},
   "outputs": [
    {
     "name": "stdout",
     "output_type": "stream",
     "text": [
      "0 "
     ]
    }
   ],
   "source": [
    "#가장 가까운 반복문을 탈출해라\n",
    "for i in range(10):\n",
    "    if i%2==1:\n",
    "        break\n",
    "    else:\n",
    "        print(i, end=' ')"
   ]
  },
  {
   "cell_type": "markdown",
   "metadata": {},
   "source": [
    "pass는 문법적으로 문장이 필요하지만 프로그램이 실행될 필요는 없을때 사용. 아무런 행동도 하지 않는다.\n"
   ]
  },
  {
   "cell_type": "markdown",
   "metadata": {},
   "source": [
    "`continue`와 `pass` 분명히 다르다. 다음의 경우는 실행 결과가 같지만..."
   ]
  },
  {
   "cell_type": "code",
   "execution_count": 59,
   "metadata": {},
   "outputs": [
    {
     "name": "stdout",
     "output_type": "stream",
     "text": [
      "0 2 4 6 8 \n",
      "---------\n",
      "0 2 4 6 8 "
     ]
    }
   ],
   "source": [
    "for i in range(10):\n",
    "    if i%2==1:\n",
    "        continue\n",
    "    else:\n",
    "        print(i, end=' ')\n",
    "        \n",
    "print('\\n---------')\n",
    "        \n",
    "for i in range(10):\n",
    "    if i%2==1:\n",
    "        pass\n",
    "    else:\n",
    "        print(i, end=' ')"
   ]
  },
  {
   "cell_type": "markdown",
   "metadata": {},
   "source": [
    "이 경우는 다르다. `pass`는 단순히 실행할 코드가 없다는 뜻이고, `continue`는 강제로 다음 반복문으로 넘어가라는 뜻이기 때문이다."
   ]
  },
  {
   "cell_type": "code",
   "execution_count": 58,
   "metadata": {},
   "outputs": [
    {
     "name": "stdout",
     "output_type": "stream",
     "text": [
      "1\n",
      "pass는 이곳이 실행됩니다\n",
      "2\n",
      "pass는 이곳이 실행됩니다\n",
      "3\n",
      "pass는 이곳이 실행됩니다\n",
      "-------------------\n",
      "1\n",
      "2\n",
      "3\n"
     ]
    }
   ],
   "source": [
    "for i in [1,2,3]:\n",
    "    if 1:\n",
    "        print(i)\n",
    "        pass\n",
    "    print(\"pass는 이곳이 실행됩니다\")\n",
    "\n",
    "print('-------------------')    \n",
    "    \n",
    "for i in [1,2,3]:\n",
    "    if 1:\n",
    "        print(i)\n",
    "        continue\n",
    "    print(\"continue는 이곳이 실행되지 않습니다\")"
   ]
  },
  {
   "cell_type": "markdown",
   "metadata": {},
   "source": [
    "### while\n",
    "`while 조건문:\n",
    "    ...반복할 구문...`"
   ]
  },
  {
   "cell_type": "code",
   "execution_count": 61,
   "metadata": {},
   "outputs": [
    {
     "name": "stdout",
     "output_type": "stream",
     "text": [
      "0 1 2 3 4 "
     ]
    }
   ],
   "source": [
    "i=0\n",
    "while i<5:\n",
    "    print(i, end=' ')\n",
    "    i+=1"
   ]
  },
  {
   "cell_type": "code",
   "execution_count": 62,
   "metadata": {},
   "outputs": [
    {
     "name": "stdout",
     "output_type": "stream",
     "text": [
      "0 1 2 3 4 "
     ]
    }
   ],
   "source": [
    "i=0\n",
    "while True: #while 1 과 동일. 무한루프의 경우 break가 반드시 있어줘야 한다.\n",
    "    print(i, end=' ')\n",
    "    if i==4:\n",
    "        break\n",
    "    i+=1"
   ]
  },
  {
   "cell_type": "markdown",
   "metadata": {},
   "source": [
    "## 조건문"
   ]
  },
  {
   "cell_type": "code",
   "execution_count": 63,
   "metadata": {},
   "outputs": [
    {
     "name": "stdout",
     "output_type": "stream",
     "text": [
      "good good\n"
     ]
    }
   ],
   "source": [
    "score=90\n",
    "if score>=60:\n",
    "    message='good'\n",
    "else:\n",
    "    message='bad'\n",
    "\n",
    "message2 = 'good' if score>=60 else 'bad'\n",
    "\n",
    "print(message, message2)"
   ]
  },
  {
   "cell_type": "markdown",
   "metadata": {},
   "source": [
    "## 함수"
   ]
  },
  {
   "cell_type": "code",
   "execution_count": 64,
   "metadata": {},
   "outputs": [
    {
     "name": "stdout",
     "output_type": "stream",
     "text": [
      "Hello, World!\n"
     ]
    }
   ],
   "source": [
    "def hello():\n",
    "    print(\"Hello, World!\")\n",
    "hello()"
   ]
  },
  {
   "cell_type": "code",
   "execution_count": 65,
   "metadata": {},
   "outputs": [
    {
     "name": "stdout",
     "output_type": "stream",
     "text": [
      "Person name: James\n",
      "Person name: James\n",
      "Person age:  20\n",
      "Person gender: Male\n",
      "----------------------\n",
      "Person name: Suzan\n",
      "Person name: Suzan\n",
      "Person age:  19\n",
      "Person gender: Female\n",
      "----------------------\n"
     ]
    }
   ],
   "source": [
    "def p_inf(name, age, gender):\n",
    "    print ('Person name: '+name)\n",
    "    print('Person name:',name)\n",
    "    print ('Person age: ', age)\n",
    "    print ('Person gender: '+gender)\n",
    "    print ('----------------------')\n",
    "    \n",
    "p_inf('James', 20, 'Male')\n",
    "p_inf('Suzan', 19, 'Female')"
   ]
  },
  {
   "cell_type": "code",
   "execution_count": 15,
   "metadata": {},
   "outputs": [
    {
     "data": {
      "text/plain": [
       "50"
      ]
     },
     "execution_count": 15,
     "metadata": {},
     "output_type": "execute_result"
    }
   ],
   "source": [
    "#값을 받아 새로운 값을 계산하여 반환하는 함수\n",
    "def summ(num1, num2):\n",
    "    result = num1 + num2\n",
    "    return result\n",
    "\n",
    "a=summ(20, 30)\n",
    "a"
   ]
  },
  {
   "cell_type": "code",
   "execution_count": 67,
   "metadata": {},
   "outputs": [
    {
     "name": "stdout",
     "output_type": "stream",
     "text": [
      "25\n",
      "5050\n"
     ]
    }
   ],
   "source": [
    "def summ(start, last, step=1): #default값 주고, 바꾸면서 사용가능\n",
    "    sum=0\n",
    "    for i in range(start, last, step):\n",
    "        sum+=i\n",
    "    return sum\n",
    "print(summ(1,11,2))\n",
    "print(summ(1,101))"
   ]
  },
  {
   "cell_type": "markdown",
   "metadata": {},
   "source": [
    "**lambda : 함수를 만들 필요까지는 없어서 일회용으로 사용할 함수**\n",
    "\n",
    "이름을 정의할 필요가 없는 익명의(anonymous) 함수. 메모리를 할당하지 않습니다!"
   ]
  },
  {
   "cell_type": "code",
   "execution_count": 68,
   "metadata": {},
   "outputs": [
    {
     "name": "stdout",
     "output_type": "stream",
     "text": [
      "10\n",
      "10\n"
     ]
    }
   ],
   "source": [
    "#일반적인 함수이지만 굳이 이렇게 정의할 필요가 없어보인다\n",
    "def to_double(n):\n",
    "    return n*2\n",
    "\n",
    "#lambda를 이용한 함수\n",
    "double = lambda n : n*2\n",
    "\n",
    "print(to_double(5))\n",
    "print(double(5))"
   ]
  },
  {
   "cell_type": "code",
   "execution_count": 69,
   "metadata": {},
   "outputs": [
    {
     "name": "stdout",
     "output_type": "stream",
     "text": [
      "6\n",
      "6\n"
     ]
    }
   ],
   "source": [
    "#여러개의 input을 받을 수도 있다.\n",
    "result = lambda n1, n2, n3: n1+n2+n3\n",
    "print(result(1, 2, 3))\n",
    "\n",
    "print((lambda x1, x2, x3: x1+x2+x3)(1,2,3))"
   ]
  }
 ],
 "metadata": {
  "kernelspec": {
   "display_name": "Python 3",
   "language": "python",
   "name": "python3"
  },
  "language_info": {
   "codemirror_mode": {
    "name": "ipython",
    "version": 3
   },
   "file_extension": ".py",
   "mimetype": "text/x-python",
   "name": "python",
   "nbconvert_exporter": "python",
   "pygments_lexer": "ipython3",
   "version": "3.7.1"
  }
 },
 "nbformat": 4,
 "nbformat_minor": 2
}
